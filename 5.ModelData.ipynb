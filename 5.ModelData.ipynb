{
 "cells": [
  {
   "cell_type": "code",
   "execution_count": 1,
   "id": "first-hostel",
   "metadata": {},
   "outputs": [],
   "source": [
    "import pandas as pd\n",
    "import numpy as np\n",
    "from sklearn.model_selection import train_test_split\n",
    "from sklearn.linear_model import LinearRegression\n",
    "import seaborn as sns\n",
    "import matplotlib.pyplot as plt"
   ]
  },
  {
   "cell_type": "code",
   "execution_count": 2,
   "id": "present-patient",
   "metadata": {},
   "outputs": [
    {
     "name": "stderr",
     "output_type": "stream",
     "text": [
      "C:\\Users\\robin\\anaconda3\\lib\\site-packages\\IPython\\core\\interactiveshell.py:3155: DtypeWarning: Columns (3) have mixed types.Specify dtype option on import or set low_memory=False.\n",
      "  has_raised = await self.run_ast_nodes(code_ast.body, cell_name,\n"
     ]
    }
   ],
   "source": [
    "df = pd.read_csv('D:/Data/HousingInventory_EDA.csv')"
   ]
  },
  {
   "cell_type": "code",
   "execution_count": 3,
   "id": "serious-studio",
   "metadata": {},
   "outputs": [
    {
     "data": {
      "text/html": [
       "<div>\n",
       "<style scoped>\n",
       "    .dataframe tbody tr th:only-of-type {\n",
       "        vertical-align: middle;\n",
       "    }\n",
       "\n",
       "    .dataframe tbody tr th {\n",
       "        vertical-align: top;\n",
       "    }\n",
       "\n",
       "    .dataframe thead th {\n",
       "        text-align: right;\n",
       "    }\n",
       "</style>\n",
       "<table border=\"1\" class=\"dataframe\">\n",
       "  <thead>\n",
       "    <tr style=\"text-align: right;\">\n",
       "      <th></th>\n",
       "      <th>RE</th>\n",
       "      <th>mail_city</th>\n",
       "      <th>mail_state</th>\n",
       "      <th>mail_zipcode</th>\n",
       "      <th>subdivision_name</th>\n",
       "      <th>neighborhood</th>\n",
       "      <th>perc_capped</th>\n",
       "      <th>just_value</th>\n",
       "      <th>perc_school_deduction</th>\n",
       "      <th>perc_county_deduction</th>\n",
       "      <th>...</th>\n",
       "      <th>city</th>\n",
       "      <th>zipcode</th>\n",
       "      <th>RE_b</th>\n",
       "      <th>sec_township_range</th>\n",
       "      <th>inv_group</th>\n",
       "      <th>mailing_address</th>\n",
       "      <th>site_address</th>\n",
       "      <th>bldng_proportion</th>\n",
       "      <th>adj_just_value</th>\n",
       "      <th>owner_type</th>\n",
       "    </tr>\n",
       "  </thead>\n",
       "  <tbody>\n",
       "    <tr>\n",
       "      <th>0</th>\n",
       "      <td>000006 0030</td>\n",
       "      <td>JACKSONVILLE</td>\n",
       "      <td>FL</td>\n",
       "      <td>32234</td>\n",
       "      <td>SECTION LAND</td>\n",
       "      <td>417300.2</td>\n",
       "      <td>1.0</td>\n",
       "      <td>228683</td>\n",
       "      <td>-0.1093</td>\n",
       "      <td>-0.2186</td>\n",
       "      <td>...</td>\n",
       "      <td>JACKSONVILLE</td>\n",
       "      <td>32234</td>\n",
       "      <td>000006 0030 1</td>\n",
       "      <td>1 2S 23E</td>\n",
       "      <td>NaN</td>\n",
       "      <td>2503 SUMMERFIELD LN</td>\n",
       "      <td>2503 SUMMERFIELD LN</td>\n",
       "      <td>1.0</td>\n",
       "      <td>228683</td>\n",
       "      <td>PRIMARY RESIDENCE</td>\n",
       "    </tr>\n",
       "    <tr>\n",
       "      <th>1</th>\n",
       "      <td>000007 0010</td>\n",
       "      <td>JACKSONVILLE</td>\n",
       "      <td>FL</td>\n",
       "      <td>32257</td>\n",
       "      <td>SECTION LAND</td>\n",
       "      <td>417300.2</td>\n",
       "      <td>0.0</td>\n",
       "      <td>75449</td>\n",
       "      <td>0.0000</td>\n",
       "      <td>0.0000</td>\n",
       "      <td>...</td>\n",
       "      <td>JACKSONVILLE</td>\n",
       "      <td>32234</td>\n",
       "      <td>000007 0010 1</td>\n",
       "      <td>1 2S 23E</td>\n",
       "      <td>NaN</td>\n",
       "      <td>9540 SAN JOSE BLVD</td>\n",
       "      <td>2610 N US 301 HWY</td>\n",
       "      <td>1.0</td>\n",
       "      <td>75449</td>\n",
       "      <td>SECONDARY RESIDENCE</td>\n",
       "    </tr>\n",
       "    <tr>\n",
       "      <th>2</th>\n",
       "      <td>000009 0100</td>\n",
       "      <td>BALDWIN</td>\n",
       "      <td>FL</td>\n",
       "      <td>32234</td>\n",
       "      <td>SECTION LAND</td>\n",
       "      <td>417300.2</td>\n",
       "      <td>1.0</td>\n",
       "      <td>193391</td>\n",
       "      <td>-0.3320</td>\n",
       "      <td>-0.4612</td>\n",
       "      <td>...</td>\n",
       "      <td>JACKSONVILLE</td>\n",
       "      <td>32234</td>\n",
       "      <td>000009 0100 1</td>\n",
       "      <td>12 2S 23E</td>\n",
       "      <td>NaN</td>\n",
       "      <td>2495 US 301 HWY N</td>\n",
       "      <td>2495 N US 301 HWY</td>\n",
       "      <td>1.0</td>\n",
       "      <td>193391</td>\n",
       "      <td>PRIMARY RESIDENCE</td>\n",
       "    </tr>\n",
       "    <tr>\n",
       "      <th>3</th>\n",
       "      <td>000011 0000</td>\n",
       "      <td>BALDWIN</td>\n",
       "      <td>FL</td>\n",
       "      <td>32234</td>\n",
       "      <td>SECTION LAND</td>\n",
       "      <td>417300.2</td>\n",
       "      <td>0.0</td>\n",
       "      <td>95301</td>\n",
       "      <td>0.0000</td>\n",
       "      <td>0.0000</td>\n",
       "      <td>...</td>\n",
       "      <td>JACKSONVILLE</td>\n",
       "      <td>32234</td>\n",
       "      <td>000011 0000 1</td>\n",
       "      <td>12 2S 23E</td>\n",
       "      <td>NaN</td>\n",
       "      <td>2425 US HWY 301 N</td>\n",
       "      <td>2435 N US 301 HWY</td>\n",
       "      <td>1.0</td>\n",
       "      <td>95301</td>\n",
       "      <td>SECONDARY RESIDENCE</td>\n",
       "    </tr>\n",
       "    <tr>\n",
       "      <th>4</th>\n",
       "      <td>000012 0010</td>\n",
       "      <td>JACKSONVILLE</td>\n",
       "      <td>FL</td>\n",
       "      <td>32234</td>\n",
       "      <td>SECTION LAND</td>\n",
       "      <td>417300.2</td>\n",
       "      <td>1.0</td>\n",
       "      <td>121447</td>\n",
       "      <td>-0.3491</td>\n",
       "      <td>-0.5550</td>\n",
       "      <td>...</td>\n",
       "      <td>JACKSONVILLE</td>\n",
       "      <td>32234</td>\n",
       "      <td>000012 0010 1</td>\n",
       "      <td>12 2S 23E</td>\n",
       "      <td>NaN</td>\n",
       "      <td>2204 US HWY 301 N</td>\n",
       "      <td>2204 N US 301 HWY</td>\n",
       "      <td>1.0</td>\n",
       "      <td>121447</td>\n",
       "      <td>PRIMARY RESIDENCE</td>\n",
       "    </tr>\n",
       "  </tbody>\n",
       "</table>\n",
       "<p>5 rows × 87 columns</p>\n",
       "</div>"
      ],
      "text/plain": [
       "            RE     mail_city mail_state mail_zipcode subdivision_name  \\\n",
       "0  000006 0030  JACKSONVILLE         FL        32234     SECTION LAND   \n",
       "1  000007 0010  JACKSONVILLE         FL        32257     SECTION LAND   \n",
       "2  000009 0100       BALDWIN         FL        32234     SECTION LAND   \n",
       "3  000011 0000       BALDWIN         FL        32234     SECTION LAND   \n",
       "4  000012 0010  JACKSONVILLE         FL        32234     SECTION LAND   \n",
       "\n",
       "   neighborhood  perc_capped  just_value  perc_school_deduction  \\\n",
       "0      417300.2          1.0      228683                -0.1093   \n",
       "1      417300.2          0.0       75449                 0.0000   \n",
       "2      417300.2          1.0      193391                -0.3320   \n",
       "3      417300.2          0.0       95301                 0.0000   \n",
       "4      417300.2          1.0      121447                -0.3491   \n",
       "\n",
       "   perc_county_deduction  ...          city  zipcode           RE_b  \\\n",
       "0                -0.2186  ...  JACKSONVILLE    32234  000006 0030 1   \n",
       "1                 0.0000  ...  JACKSONVILLE    32234  000007 0010 1   \n",
       "2                -0.4612  ...  JACKSONVILLE    32234  000009 0100 1   \n",
       "3                 0.0000  ...  JACKSONVILLE    32234  000011 0000 1   \n",
       "4                -0.5550  ...  JACKSONVILLE    32234  000012 0010 1   \n",
       "\n",
       "  sec_township_range  inv_group      mailing_address         site_address  \\\n",
       "0           1 2S 23E        NaN  2503 SUMMERFIELD LN  2503 SUMMERFIELD LN   \n",
       "1           1 2S 23E        NaN   9540 SAN JOSE BLVD    2610 N US 301 HWY   \n",
       "2          12 2S 23E        NaN    2495 US 301 HWY N    2495 N US 301 HWY   \n",
       "3          12 2S 23E        NaN    2425 US HWY 301 N    2435 N US 301 HWY   \n",
       "4          12 2S 23E        NaN    2204 US HWY 301 N    2204 N US 301 HWY   \n",
       "\n",
       "   bldng_proportion  adj_just_value           owner_type  \n",
       "0               1.0          228683    PRIMARY RESIDENCE  \n",
       "1               1.0           75449  SECONDARY RESIDENCE  \n",
       "2               1.0          193391    PRIMARY RESIDENCE  \n",
       "3               1.0           95301  SECONDARY RESIDENCE  \n",
       "4               1.0          121447    PRIMARY RESIDENCE  \n",
       "\n",
       "[5 rows x 87 columns]"
      ]
     },
     "execution_count": 3,
     "metadata": {},
     "output_type": "execute_result"
    }
   ],
   "source": [
    "df.head()"
   ]
  },
  {
   "cell_type": "code",
   "execution_count": 4,
   "id": "dimensional-stanley",
   "metadata": {},
   "outputs": [
    {
     "data": {
      "text/plain": [
       "(252717, 87)"
      ]
     },
     "execution_count": 4,
     "metadata": {},
     "output_type": "execute_result"
    }
   ],
   "source": [
    "df.shape"
   ]
  },
  {
   "cell_type": "code",
   "execution_count": 5,
   "id": "bulgarian-teens",
   "metadata": {},
   "outputs": [
    {
     "data": {
      "text/plain": [
       "(252717, 69)"
      ]
     },
     "execution_count": 5,
     "metadata": {},
     "output_type": "execute_result"
    }
   ],
   "source": [
    "df = df.drop(columns=[\n",
    "    'mail_city', 'mail_state', 'mail_zipcode', 'building', 'actual_yr_built', 'effec_yr_built',\n",
    "    'owner', 'city', 'RE_b', 'sec_township_range', 'inv_group', \n",
    "    'mailing_address', 'site_address', 'owner_type', 'subdivision_name', 'neighborhood',\n",
    "    'adj_just_value', 'bldng_proportion'\n",
    "    ])\n",
    "df.shape"
   ]
  },
  {
   "cell_type": "code",
   "execution_count": 6,
   "id": "national-norway",
   "metadata": {},
   "outputs": [
    {
     "data": {
      "text/plain": [
       "251301"
      ]
     },
     "execution_count": 6,
     "metadata": {},
     "output_type": "execute_result"
    }
   ],
   "source": [
    "hsf = df[['RE','heated_sf']].groupby('RE').sum().reset_index()['heated_sf'].to_list()\n",
    "len(hsf)\n",
    "gsf = df[['RE','gross_sf']].groupby('RE').sum().reset_index()['gross_sf'].to_list()\n",
    "len(hsf)\n",
    "esf = df[['RE','effec_sf']].groupby('RE').sum().reset_index()['effec_sf'].to_list()\n",
    "len(hsf)"
   ]
  },
  {
   "cell_type": "code",
   "execution_count": 7,
   "id": "urban-department",
   "metadata": {},
   "outputs": [
    {
     "data": {
      "text/plain": [
       "251301"
      ]
     },
     "execution_count": 7,
     "metadata": {},
     "output_type": "execute_result"
    }
   ],
   "source": [
    "homes = df[['RE','just_value']].groupby('RE').count().reset_index()['just_value'].to_list()\n",
    "len(homes)"
   ]
  },
  {
   "cell_type": "code",
   "execution_count": 8,
   "id": "quarterly-genome",
   "metadata": {},
   "outputs": [],
   "source": [
    "df.drop(columns=['heated_sf','gross_sf','effec_sf'], inplace=True)"
   ]
  },
  {
   "cell_type": "code",
   "execution_count": 9,
   "id": "objective-posting",
   "metadata": {},
   "outputs": [],
   "source": [
    "df2 = df.groupby('RE', axis=0).mean()"
   ]
  },
  {
   "cell_type": "code",
   "execution_count": 10,
   "id": "manufactured-meeting",
   "metadata": {},
   "outputs": [],
   "source": [
    "df.drop_duplicates(subset='RE', inplace=True)\n",
    "df = df[['RE','type_descr', 'tax_district']]\n",
    "df = df.merge(df2, on='RE', how='left')\n",
    "df['heated_sf'] = hsf\n",
    "df['gross_sf'] = gsf\n",
    "df['effec_sf'] = esf\n",
    "df['home_count'] = homes\n",
    "df['zipcode'] = df.zipcode.astype('int').astype('category')"
   ]
  },
  {
   "cell_type": "code",
   "execution_count": 11,
   "id": "surface-international",
   "metadata": {},
   "outputs": [],
   "source": [
    "df = pd.get_dummies(df, columns=['zipcode'], prefix='z')\n",
    "df = pd.get_dummies(df, columns=['tax_district'], prefix='td')\n",
    "df = pd.get_dummies(df, columns=['type_descr'], prefix='type')"
   ]
  },
  {
   "cell_type": "code",
   "execution_count": 12,
   "id": "referenced-paragraph",
   "metadata": {},
   "outputs": [
    {
     "data": {
      "text/plain": [
       "(251301, 147)"
      ]
     },
     "execution_count": 12,
     "metadata": {},
     "output_type": "execute_result"
    }
   ],
   "source": [
    "df.shape"
   ]
  },
  {
   "cell_type": "code",
   "execution_count": 13,
   "id": "connected-evidence",
   "metadata": {},
   "outputs": [
    {
     "data": {
      "text/html": [
       "<div>\n",
       "<style scoped>\n",
       "    .dataframe tbody tr th:only-of-type {\n",
       "        vertical-align: middle;\n",
       "    }\n",
       "\n",
       "    .dataframe tbody tr th {\n",
       "        vertical-align: top;\n",
       "    }\n",
       "\n",
       "    .dataframe thead th {\n",
       "        text-align: right;\n",
       "    }\n",
       "</style>\n",
       "<table border=\"1\" class=\"dataframe\">\n",
       "  <thead>\n",
       "    <tr style=\"text-align: right;\">\n",
       "      <th></th>\n",
       "      <th>RE</th>\n",
       "      <th>sale_id</th>\n",
       "      <th>seller</th>\n",
       "      <th>sale_date</th>\n",
       "      <th>price</th>\n",
       "      <th>building</th>\n",
       "      <th>actual_yr_built</th>\n",
       "      <th>heated_sf</th>\n",
       "      <th>age_at_sale</th>\n",
       "      <th>neighborhood</th>\n",
       "      <th>zipcode</th>\n",
       "      <th>address</th>\n",
       "    </tr>\n",
       "  </thead>\n",
       "  <tbody>\n",
       "    <tr>\n",
       "      <th>0</th>\n",
       "      <td>017964 0000</td>\n",
       "      <td>1</td>\n",
       "      <td>NaN</td>\n",
       "      <td>1985-09-20</td>\n",
       "      <td>40500</td>\n",
       "      <td>1</td>\n",
       "      <td>1962</td>\n",
       "      <td>1075</td>\n",
       "      <td>23</td>\n",
       "      <td>412602.26</td>\n",
       "      <td>32210.0</td>\n",
       "      <td>6529 HUGH CT</td>\n",
       "    </tr>\n",
       "    <tr>\n",
       "      <th>1</th>\n",
       "      <td>112600 0000</td>\n",
       "      <td>6</td>\n",
       "      <td>NaN</td>\n",
       "      <td>2006-11-30</td>\n",
       "      <td>185000</td>\n",
       "      <td>1</td>\n",
       "      <td>1963</td>\n",
       "      <td>1644</td>\n",
       "      <td>43</td>\n",
       "      <td>214701.26</td>\n",
       "      <td>32277.0</td>\n",
       "      <td>5560 MAXINE DR</td>\n",
       "    </tr>\n",
       "    <tr>\n",
       "      <th>2</th>\n",
       "      <td>167759 7350</td>\n",
       "      <td>4</td>\n",
       "      <td>REGIONS MORTGAGE</td>\n",
       "      <td>2002-07-10</td>\n",
       "      <td>274000</td>\n",
       "      <td>1</td>\n",
       "      <td>1999</td>\n",
       "      <td>3186</td>\n",
       "      <td>3</td>\n",
       "      <td>314411.28</td>\n",
       "      <td>32256.0</td>\n",
       "      <td>8714 E HAMPTON LANDING DR</td>\n",
       "    </tr>\n",
       "    <tr>\n",
       "      <th>3</th>\n",
       "      <td>140237 0000</td>\n",
       "      <td>2</td>\n",
       "      <td>NaN</td>\n",
       "      <td>1988-07-18</td>\n",
       "      <td>77500</td>\n",
       "      <td>1</td>\n",
       "      <td>1961</td>\n",
       "      <td>1924</td>\n",
       "      <td>27</td>\n",
       "      <td>215801.23</td>\n",
       "      <td>32216.0</td>\n",
       "      <td>1340 GROVE PARK BLVD</td>\n",
       "    </tr>\n",
       "    <tr>\n",
       "      <th>4</th>\n",
       "      <td>010427 1020</td>\n",
       "      <td>6</td>\n",
       "      <td>POTEET MATTHEW D STEPHANIE J</td>\n",
       "      <td>2006-03-03</td>\n",
       "      <td>179000</td>\n",
       "      <td>1</td>\n",
       "      <td>1986</td>\n",
       "      <td>1533</td>\n",
       "      <td>20</td>\n",
       "      <td>412602.32</td>\n",
       "      <td>32210.0</td>\n",
       "      <td>7213 MIMOSA GROVE TRL</td>\n",
       "    </tr>\n",
       "  </tbody>\n",
       "</table>\n",
       "</div>"
      ],
      "text/plain": [
       "            RE  sale_id                        seller   sale_date   price  \\\n",
       "0  017964 0000        1                           NaN  1985-09-20   40500   \n",
       "1  112600 0000        6                           NaN  2006-11-30  185000   \n",
       "2  167759 7350        4              REGIONS MORTGAGE  2002-07-10  274000   \n",
       "3  140237 0000        2                           NaN  1988-07-18   77500   \n",
       "4  010427 1020        6  POTEET MATTHEW D STEPHANIE J  2006-03-03  179000   \n",
       "\n",
       "   building  actual_yr_built  heated_sf  age_at_sale  neighborhood  zipcode  \\\n",
       "0         1             1962       1075           23     412602.26  32210.0   \n",
       "1         1             1963       1644           43     214701.26  32277.0   \n",
       "2         1             1999       3186            3     314411.28  32256.0   \n",
       "3         1             1961       1924           27     215801.23  32216.0   \n",
       "4         1             1986       1533           20     412602.32  32210.0   \n",
       "\n",
       "                     address  \n",
       "0               6529 HUGH CT  \n",
       "1             5560 MAXINE DR  \n",
       "2  8714 E HAMPTON LANDING DR  \n",
       "3       1340 GROVE PARK BLVD  \n",
       "4      7213 MIMOSA GROVE TRL  "
      ]
     },
     "execution_count": 13,
     "metadata": {},
     "output_type": "execute_result"
    }
   ],
   "source": [
    "df2 = pd.read_csv(\"D:/Data/HomeSales.csv\")\n",
    "df2.head()"
   ]
  },
  {
   "cell_type": "code",
   "execution_count": 14,
   "id": "piano-prospect",
   "metadata": {},
   "outputs": [
    {
     "data": {
      "text/plain": [
       "(90620, 5)"
      ]
     },
     "execution_count": 14,
     "metadata": {},
     "output_type": "execute_result"
    }
   ],
   "source": [
    "df2 = df2[['RE', 'sale_id', 'sale_date', 'price', 'age_at_sale']]\n",
    "df2['sale_date'] = pd.to_datetime(df2['sale_date'])\n",
    "df2 = df2[df2['sale_date']>='2010']\n",
    "df2.shape"
   ]
  },
  {
   "cell_type": "code",
   "execution_count": 15,
   "id": "technological-marks",
   "metadata": {},
   "outputs": [],
   "source": [
    "df2 = df2.merge(df,how='left',on='RE')\n",
    "df2.drop(columns='RE', inplace=True)"
   ]
  },
  {
   "cell_type": "code",
   "execution_count": 16,
   "id": "liable-strengthening",
   "metadata": {
    "scrolled": false
   },
   "outputs": [
    {
     "data": {
      "text/html": [
       "<div>\n",
       "<style scoped>\n",
       "    .dataframe tbody tr th:only-of-type {\n",
       "        vertical-align: middle;\n",
       "    }\n",
       "\n",
       "    .dataframe tbody tr th {\n",
       "        vertical-align: top;\n",
       "    }\n",
       "\n",
       "    .dataframe thead th {\n",
       "        text-align: right;\n",
       "    }\n",
       "</style>\n",
       "<table border=\"1\" class=\"dataframe\">\n",
       "  <thead>\n",
       "    <tr style=\"text-align: right;\">\n",
       "      <th></th>\n",
       "      <th>sale_id</th>\n",
       "      <th>sale_date</th>\n",
       "      <th>price</th>\n",
       "      <th>age_at_sale</th>\n",
       "      <th>perc_capped</th>\n",
       "      <th>just_value</th>\n",
       "      <th>perc_school_deduction</th>\n",
       "      <th>perc_county_deduction</th>\n",
       "      <th>lot_sf</th>\n",
       "      <th>class</th>\n",
       "      <th>...</th>\n",
       "      <th>td_USD2B</th>\n",
       "      <th>td_USD3</th>\n",
       "      <th>td_USD4</th>\n",
       "      <th>td_USD5</th>\n",
       "      <th>type_SFR 1 STORY</th>\n",
       "      <th>type_SFR 2 STORY</th>\n",
       "      <th>type_SFR 3 STORY</th>\n",
       "      <th>type_SFR CLASS 2</th>\n",
       "      <th>type_SFR CLASS 3</th>\n",
       "      <th>type_SFR SPLIT-LEVEL</th>\n",
       "    </tr>\n",
       "  </thead>\n",
       "  <tbody>\n",
       "    <tr>\n",
       "      <th>0</th>\n",
       "      <td>3</td>\n",
       "      <td>2018-12-06</td>\n",
       "      <td>222700</td>\n",
       "      <td>1</td>\n",
       "      <td>1.0</td>\n",
       "      <td>196871.0</td>\n",
       "      <td>-0.1784</td>\n",
       "      <td>-0.3054</td>\n",
       "      <td>14895.0</td>\n",
       "      <td>4.0</td>\n",
       "      <td>...</td>\n",
       "      <td>0</td>\n",
       "      <td>0</td>\n",
       "      <td>0</td>\n",
       "      <td>0</td>\n",
       "      <td>1</td>\n",
       "      <td>0</td>\n",
       "      <td>0</td>\n",
       "      <td>0</td>\n",
       "      <td>0</td>\n",
       "      <td>0</td>\n",
       "    </tr>\n",
       "    <tr>\n",
       "      <th>1</th>\n",
       "      <td>4</td>\n",
       "      <td>2013-05-24</td>\n",
       "      <td>113300</td>\n",
       "      <td>28</td>\n",
       "      <td>1.0</td>\n",
       "      <td>198744.0</td>\n",
       "      <td>-0.4929</td>\n",
       "      <td>-0.6187</td>\n",
       "      <td>6330.0</td>\n",
       "      <td>3.0</td>\n",
       "      <td>...</td>\n",
       "      <td>0</td>\n",
       "      <td>0</td>\n",
       "      <td>0</td>\n",
       "      <td>0</td>\n",
       "      <td>1</td>\n",
       "      <td>0</td>\n",
       "      <td>0</td>\n",
       "      <td>0</td>\n",
       "      <td>0</td>\n",
       "      <td>0</td>\n",
       "    </tr>\n",
       "    <tr>\n",
       "      <th>2</th>\n",
       "      <td>6</td>\n",
       "      <td>2011-12-12</td>\n",
       "      <td>232000</td>\n",
       "      <td>13</td>\n",
       "      <td>1.0</td>\n",
       "      <td>256148.0</td>\n",
       "      <td>-0.0976</td>\n",
       "      <td>-0.1952</td>\n",
       "      <td>7200.0</td>\n",
       "      <td>4.0</td>\n",
       "      <td>...</td>\n",
       "      <td>0</td>\n",
       "      <td>0</td>\n",
       "      <td>0</td>\n",
       "      <td>0</td>\n",
       "      <td>0</td>\n",
       "      <td>0</td>\n",
       "      <td>0</td>\n",
       "      <td>0</td>\n",
       "      <td>0</td>\n",
       "      <td>1</td>\n",
       "    </tr>\n",
       "    <tr>\n",
       "      <th>3</th>\n",
       "      <td>8</td>\n",
       "      <td>2010-01-04</td>\n",
       "      <td>136900</td>\n",
       "      <td>1</td>\n",
       "      <td>1.0</td>\n",
       "      <td>137512.0</td>\n",
       "      <td>-0.3927</td>\n",
       "      <td>-0.5745</td>\n",
       "      <td>19022.0</td>\n",
       "      <td>4.0</td>\n",
       "      <td>...</td>\n",
       "      <td>0</td>\n",
       "      <td>0</td>\n",
       "      <td>0</td>\n",
       "      <td>0</td>\n",
       "      <td>1</td>\n",
       "      <td>0</td>\n",
       "      <td>0</td>\n",
       "      <td>0</td>\n",
       "      <td>0</td>\n",
       "      <td>0</td>\n",
       "    </tr>\n",
       "    <tr>\n",
       "      <th>4</th>\n",
       "      <td>6</td>\n",
       "      <td>2010-01-04</td>\n",
       "      <td>144900</td>\n",
       "      <td>10</td>\n",
       "      <td>1.0</td>\n",
       "      <td>197691.0</td>\n",
       "      <td>-0.5234</td>\n",
       "      <td>-0.6499</td>\n",
       "      <td>6767.0</td>\n",
       "      <td>4.0</td>\n",
       "      <td>...</td>\n",
       "      <td>0</td>\n",
       "      <td>0</td>\n",
       "      <td>0</td>\n",
       "      <td>0</td>\n",
       "      <td>1</td>\n",
       "      <td>0</td>\n",
       "      <td>0</td>\n",
       "      <td>0</td>\n",
       "      <td>0</td>\n",
       "      <td>0</td>\n",
       "    </tr>\n",
       "  </tbody>\n",
       "</table>\n",
       "<p>5 rows × 150 columns</p>\n",
       "</div>"
      ],
      "text/plain": [
       "   sale_id  sale_date   price  age_at_sale  perc_capped  just_value  \\\n",
       "0        3 2018-12-06  222700            1          1.0    196871.0   \n",
       "1        4 2013-05-24  113300           28          1.0    198744.0   \n",
       "2        6 2011-12-12  232000           13          1.0    256148.0   \n",
       "3        8 2010-01-04  136900            1          1.0    137512.0   \n",
       "4        6 2010-01-04  144900           10          1.0    197691.0   \n",
       "\n",
       "   perc_school_deduction  perc_county_deduction   lot_sf  class  ...  \\\n",
       "0                -0.1784                -0.3054  14895.0    4.0  ...   \n",
       "1                -0.4929                -0.6187   6330.0    3.0  ...   \n",
       "2                -0.0976                -0.1952   7200.0    4.0  ...   \n",
       "3                -0.3927                -0.5745  19022.0    4.0  ...   \n",
       "4                -0.5234                -0.6499   6767.0    4.0  ...   \n",
       "\n",
       "   td_USD2B  td_USD3  td_USD4  td_USD5  type_SFR 1 STORY  type_SFR 2 STORY  \\\n",
       "0         0        0        0        0                 1                 0   \n",
       "1         0        0        0        0                 1                 0   \n",
       "2         0        0        0        0                 0                 0   \n",
       "3         0        0        0        0                 1                 0   \n",
       "4         0        0        0        0                 1                 0   \n",
       "\n",
       "   type_SFR 3 STORY  type_SFR CLASS 2  type_SFR CLASS 3  type_SFR SPLIT-LEVEL  \n",
       "0                 0                 0                 0                     0  \n",
       "1                 0                 0                 0                     0  \n",
       "2                 0                 0                 0                     1  \n",
       "3                 0                 0                 0                     0  \n",
       "4                 0                 0                 0                     0  \n",
       "\n",
       "[5 rows x 150 columns]"
      ]
     },
     "execution_count": 16,
     "metadata": {},
     "output_type": "execute_result"
    }
   ],
   "source": [
    "df2.head()"
   ]
  },
  {
   "cell_type": "code",
   "execution_count": 17,
   "id": "norman-frontier",
   "metadata": {},
   "outputs": [],
   "source": [
    "import math\n",
    "df2['class'] = [math.ceil(x) for x in df2['class']]\n",
    "df2['class'] = df2['class'].astype('category')\n",
    "df2['quality'] = [math.ceil(x) for x in df2['quality']]\n",
    "df2['quality'] = df2['quality'].astype('category')"
   ]
  },
  {
   "cell_type": "code",
   "execution_count": 18,
   "id": "increased-paintball",
   "metadata": {},
   "outputs": [],
   "source": [
    "df2.drop(columns=['sale_id', 'parcel_bldng_sf', 'sale_date'], inplace=True)\n",
    "df2['just_value'] = df2.just_value.astype('int64')\n",
    "df2['lot_sf'] = df2.lot_sf.astype('int64')\n",
    "df2['age'] = df2.age.astype('int64')\n",
    "df2['effec_age'] = df2.effec_age.astype('int64')\n",
    "df2['building_value'] = df2.building_value.astype('int64')\n",
    "df2['bldng_count'] = df2.bldng_count.astype('int64')\n",
    "df2['land_value'] = df2.land_value.astype('int64')\n",
    "df2['feature_count'] = df2.feature_count.astype('int64')\n",
    "df2['features_value'] = df2.features_value.astype('int64')\n",
    "df2['sub_ft_count'] = df2.sub_ft_count.astype('int64')\n",
    "df2['gross_sf'] = df2.gross_sf.astype('int64')\n",
    "df2['effec_sf'] = df2.effec_sf.astype('int64')\n",
    "df2['land_use_count'] = df2.land_use_count.astype('int64')"
   ]
  },
  {
   "cell_type": "code",
   "execution_count": 19,
   "id": "peaceful-comparison",
   "metadata": {},
   "outputs": [
    {
     "data": {
      "text/plain": [
       "(90620, 147)"
      ]
     },
     "execution_count": 19,
     "metadata": {},
     "output_type": "execute_result"
    }
   ],
   "source": [
    "col_list = pd.Series([x if x[:2] in['d_','z_','td'] else None for x in df2.columns]).dropna().to_list()\n",
    "col_list2 = pd.Series([x if x[:3]=='ft_' else None for x in df2.columns]).dropna().to_list()\n",
    "col_list3 = pd.Series([x if x[:4]=='sub_' else None for x in df2.columns]).dropna().to_list()\n",
    "col_list4 = pd.Series([x if x[:5]=='land_' else None for x in df2.columns]).dropna().to_list()\n",
    "col_list = col_list + col_list2 + col_list3 + col_list4\n",
    "col_list.remove('land_value')\n",
    "col_list.remove('land_use_count')\n",
    "col_list.remove('sub_ft_count')\n",
    "for col in col_list:\n",
    "    df2[col] = df2[col].astype('category')\n",
    "df2.dropna(inplace=True)\n",
    "df2.shape"
   ]
  },
  {
   "cell_type": "code",
   "execution_count": 20,
   "id": "casual-newcastle",
   "metadata": {},
   "outputs": [
    {
     "data": {
      "text/plain": [
       "0.9329010121173322"
      ]
     },
     "execution_count": 20,
     "metadata": {},
     "output_type": "execute_result"
    }
   ],
   "source": [
    "features = df2.columns.to_list()\n",
    "features.remove('price')\n",
    "\n",
    "X = df2[features]\n",
    "\n",
    "y = df2.price\n",
    "\n",
    "X_train, X_test, y_train, y_test = train_test_split(X, y, test_size=0.25, random_state=10)\n",
    "reg_all = LinearRegression()\n",
    "reg_all.fit(X_train, y_train)\n",
    "y_pred = reg_all.predict(X_test)\n",
    "reg_all.score(X_test, y_test)"
   ]
  },
  {
   "cell_type": "code",
   "execution_count": 21,
   "id": "small-center",
   "metadata": {},
   "outputs": [
    {
     "name": "stdout",
     "output_type": "stream",
     "text": [
      "[0.86393649 0.94262758 0.95194507 0.95934607 0.92196303]\n"
     ]
    }
   ],
   "source": [
    "from sklearn.model_selection import cross_val_score\n",
    "reg = LinearRegression()\n",
    "cv_results = cross_val_score(reg, X, y, cv=5)\n",
    "print(cv_results)"
   ]
  }
 ],
 "metadata": {
  "kernelspec": {
   "display_name": "Python 3",
   "language": "python",
   "name": "python3"
  },
  "language_info": {
   "codemirror_mode": {
    "name": "ipython",
    "version": 3
   },
   "file_extension": ".py",
   "mimetype": "text/x-python",
   "name": "python",
   "nbconvert_exporter": "python",
   "pygments_lexer": "ipython3",
   "version": "3.8.8"
  }
 },
 "nbformat": 4,
 "nbformat_minor": 5
}
