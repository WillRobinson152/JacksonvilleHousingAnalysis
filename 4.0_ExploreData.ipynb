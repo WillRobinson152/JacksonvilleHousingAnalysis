{
 "cells": [
  {
   "cell_type": "markdown",
   "id": "veterinary-muscle",
   "metadata": {},
   "source": [
    "# Exploratory Data Analysis"
   ]
  },
  {
   "cell_type": "markdown",
   "id": "perfect-philadelphia",
   "metadata": {},
   "source": [
    "### Overall Inventory\n",
    "\n",
    "Jacksonville has nearly 253,000 detached single-family homes with a total valuation of more than $49 billion, by the Duval County Property Appraiser's estimation. Condominiums, townhomes, quadruplexes, duplexes and mobile homes have been excluded from this analysis.\n",
    "\n",
    "The median home in Jacksonville is 39 years old, with five years knocked off by renovations and updates. It spans a total of 2,142 square feet, 1,644-square-feet of which are heated. It has a value of about $163,000."
   ]
  },
  {
   "attachments": {},
   "cell_type": "markdown",
   "id": "banner-gothic",
   "metadata": {},
   "source": [
    "<div>\n",
    "<img src=\"Images/OverallInventory.png\"  />\n",
    "</div>\n",
    "\n"
   ]
  },
  {
   "cell_type": "markdown",
   "id": "alive-stevens",
   "metadata": {},
   "source": [
    "### Home Construction\n",
    "\n",
    "Home construction in Jacksonville has had multiple boom and bust periods. After reaching a peak of more than 6,000 homes constructed in 1960, home construction plummeted to about 1,200 by 1967, a total drop of 80% and an annualized decrease of about 11.5%. The market hit another peak of almost 5,600 in 2005 before dropping to 871 in 2011, a total decrease of 84.5% and an annualized decrease of 14.1%.\n",
    "\n",
    "Home construction has increased every year since 2011, totaling more than 3,700 in 2019.\n",
    "\n",
    "Historically, home construction in Jacksonville began along the beaches and around downtown at an elbow of the St. Johns River. In the map below, the oldest 50% of homes are colored blue, with the darker shade being the oldest quartile. Some of the oldest districts include San Marco, Avondale, Springfield, the Beaches and Arlington.\n",
    "\n",
    "More recent construction has concentrated along the Intracoastal Waterway (located between downtown and the beach), in Fleming Island and along the border with St. Johns County to the south, near the airport and waterways to the north and in the fringes of Westside, including near Cecil Commerce Center. In the map below, the youngest 50% of homes are colored green, with the darker shade being the youngest quartile.\n",
    "\n",
    "###### Note: Home construction data based on completion year of existing inventory, not permitted construction."
   ]
  },
  {
   "attachments": {},
   "cell_type": "markdown",
   "id": "complimentary-underground",
   "metadata": {},
   "source": [
    "<div>\n",
    "<img src=\"./Images/HomeConstruction.png\"  />\n",
    "</div>\n"
   ]
  },
  {
   "cell_type": "markdown",
   "id": "metallic-superintendent",
   "metadata": {},
   "source": [
    "### Market Statistics by Zip Code\n",
    "\n",
    "Jacksonville's most valuable land, irrespective of the buildings on them, are the beaches, the zip code encompassing the Avondale and Ortega historic districts along the river and in the Southern zip codes closest to St. Johns County. The least valuable land is located between downtown and the airport, followed closely by the westernmost zipcodes.\n",
    "\n",
    "Jacksonville's most valuable homes, irrespective of the land beneath them, are located in the city's southernmost and Northeast Jacksonville, while the zip codes with the least valuable buildings mostly emanate outwardly from downtown in the center of Jacksonville. \n",
    "\n",
    "This makes intuitive sense, as Jacksonville's buildings are least valuable where people are most concentrated and most valuable where people are least concentrated - that is, buildings are most valuable where land is cheap and therefore buildings tend to be larger. Houses built farthest from downtown, the St. Johns River and the ocean also tend to be younger than those built close to these areas, another reason for their higher building values.\n",
    "\n",
    "Jacksonville's existing inventory is largest in Northside, Arlington, along the Intracoastal Waterway and to the southwest of downtown. Construction in recent years, 2017 to 2019, has been highest in Northside and Westside. This mostly inverse relationship is unsurprising; builders are going where land is cheap and readily available, but still proximal to existing concentrations of homes. Only Northside has both a high number of homes and a high number of recently built homes."
   ]
  },
  {
   "attachments": {},
   "cell_type": "markdown",
   "id": "powerful-banks",
   "metadata": {},
   "source": [
    "<div>\n",
    "<img src=\"./Images/StatsByZip.png\"  />\n",
    "</div>\n"
   ]
  },
  {
   "cell_type": "markdown",
   "id": "million-keyboard",
   "metadata": {},
   "source": [
    "### Top Adjusted Values\n",
    "\n",
    "The Duval County Property Appraiser, since taxes are levied by parcel, assesses the just value of entire parcels, regardless of the number of buildings on them. To determine the values of each home on a parcel with multiple homes, I therefore calculated an adjusted value. This adjustment takes the ratio of a home's gross square feet to the total gross square feet of buildings in the parcel, applies this ratio to the land value of the parcel, then adds the building value and feature value of each particular building.\n",
    "\n",
    "The 10 most valuable homes by this calculation are listed below and range in value from $4.7 million to $9.1 million. Each has access to water - the majority to the ocean and the minority to the St. Johns River. \n",
    "\n",
    "The 10 most valuable neighborhoods are those in the Beaches, San Marco, Avondale and Ortega. Each of these neighborhoods is located along water and has historic stock. This likely reflects not only the value of being near water but also the fact that those who can afford to buy waterfront property can typically afford to invest heavily into the homes as well. Indeed, buildings exposed to the effects of salt water and in historic districts require extensive upkeep and renovations.\n",
    "\n",
    "The 10 least valuable neighborhoods are landlocked, adjacent to interstates and industrial areas and are closer to areas of downtown blight than areas of downtown revitalization. The neighborhoods are composed of old homes that have not received the significant renovation dollars of the Avondale, Ortega and San Marco historic districts.\n",
    "\n",
    "That age plays a major role in home valuations is clear from the map of neighborhood median adjusted values below. The most valuable 50% of homes are in green, with dark green depicting the most valuable quartile. The least valuable 50% of homes are in gray, with the darkest shade depicting the least valuable quartile.\n",
    "\n",
    "The most recently constructed homes, located along the Intracoastal Waterway to the east, in Fleming Island and near St. Johns County to the south, in the far west of Westside and towards Nassau County to the north are all green, while the oldest stock of homes in Arlington, between downtown and the airport and in Westside are all black. \n",
    "\n",
    "Two other features stand out: homes along the ocean and the river are dark green, as are designated historic disricts."
   ]
  },
  {
   "attachments": {},
   "cell_type": "markdown",
   "id": "innovative-agriculture",
   "metadata": {},
   "source": [
    "<div>\n",
    "<img src=\"./Images/MostValuable.png\"  />\n",
    "</div>"
   ]
  },
  {
   "cell_type": "markdown",
   "id": "eleven-vietnam",
   "metadata": {},
   "source": [
    "### Top 10 Characteristics\n",
    "\n",
    "Some of the characteristics that we've seen contribute to home value, including whether a home is in an historic district or is in close proximity to a body of water, are demarcated in the county property appraiser's database.\n",
    "\n",
    "Below are maps of homes with at least one of the 10 most common traits listed in the database. The parcels are heat mapped, with darker hues indicating a higher just value, as estimated by the property appraiser."
   ]
  },
  {
   "attachments": {},
   "cell_type": "markdown",
   "id": "increased-spice",
   "metadata": {},
   "source": [
    "<div>\n",
    "<img src=\"./Images/ValuableDistricts.png\"  />\n",
    "</div>"
   ]
  },
  {
   "cell_type": "markdown",
   "id": "conservative-comment",
   "metadata": {},
   "source": [
    "Of the 10 most common characteristics, six pertain to water access, three pertain to historic districts, and the 10th designates homes in golf course neighborhoods.\n",
    "\n",
    "The oceanfront characteristic is associated with the most valuable homes. This makes sense as oceanfront land is the most valuable land in Jacksonville, the supply of homes (317) is smaller than any of the other top characteristics and the proximity to the ocean requires extensive upkeep, as shown by the fact that the median effective age of oceanfront homes is 42 years younger than the median age of oceanfront homes. \n",
    "\n",
    "Oceanfront homes are also large. These homes are tied with homes along the St. Johns River for the most median bedrooms and bathrooms with four of each, and the median heated square feet of oceanfront homes are 2nd only to homes along the St. Johns River. Proximity to the St. Johns River is unsurprisingly the 2nd most valuable of the 10 most common characteristics. Ocean frontage still outweighs river frontage, however, as both the median adjusted value per gross square foot and the median adjusted value per heated square foot of oceanfront homes vastly exceed those of homes along the river - or along canals, lakes and miscellaneous waterways.\n",
    "\n",
    "As previously noted, homes in historic districts have been extensively renovated, as shown by a significant difference between their respective median ages and median effective ages.\n",
    "\n",
    "Springfield is associated with the least valuable homes of the 10 most common characteristics. That is not to say it is associated with homes that are not valuable. In fact, Springfield is the exception to the rule within its surroundings. Springfield is located immediately north of downtown, in close proximity to the neighborhoods shown in a previous map to be Jacksonville's 10 least valuable.\n",
    "\n",
    "Unlike its neighbors, Springfield has benefited from a period of revitalization helped by historic tax credits, low interest or interest-free loans from nonprofits and other incentivized funding. Its affordability compared to downtown's other satellite neighborhoods and a multi-year period of downtown redevelopment have added wind to its sails, though whether that momentum continues after the financial ramifications of the Covid-19 pandemic remains to be seen."
   ]
  },
  {
   "attachments": {},
   "cell_type": "markdown",
   "id": "equal-priority",
   "metadata": {},
   "source": [
    "<div>\n",
    "<img src=\"./Images/HomeLocations.png\"  />\n",
    "</div>"
   ]
  },
  {
   "cell_type": "markdown",
   "id": "stupid-comparison",
   "metadata": {},
   "source": [
    "### Home Features\n",
    "\n",
    "In addition to the characteristics discussed above, the county property appraiser database designates features and subfeatures included in each home. The 10 most common features include prefabricated fireplaces, mason fireplaces, covered patios, wooden decks, gas fireplaces, aluminum carports, screened porches, pools, wooden sheds, and screened enclosures. \n",
    "\n",
    "They are sorted from most common to least common in the graph on the left and from highest to lowest median adjusted home value on the right. Note that in this case, most common does not mean the count of each feature, but rather the count of homes that have at least one of that feature. For example, there are not 59,992 prefabricated fireplaces in Jacksonville; rather, there are 59,992 homes with at least one prefabricated fireplace.\n",
    "\n",
    "A prefabricated fireplace is the most common feature, while a gas fireplace is associated with the most valuable homes."
   ]
  },
  {
   "attachments": {},
   "cell_type": "markdown",
   "id": "growing-genealogy",
   "metadata": {},
   "source": [
    "<div>\n",
    "<img src=\"./Images/HomeFeatures.png\"  />\n",
    "</div>\n"
   ]
  },
  {
   "cell_type": "markdown",
   "id": "champion-feeding",
   "metadata": {},
   "source": [
    "### Home Subfeatures\n",
    "\n",
    "The 10 most common subfeatures include finished garages, additions, finished screened porches, finished open porches, finished enclosed porches, finished carports, unfinished open porches, finished upper stories, unfinished garages and unfinshed storage.\n",
    "\n",
    "They are sorted from most common to least common in the graph on the left and from highest to lowest median adjusted home value on the right. As with features, most common does not mean the count of each subfeature, but rather the count of homes that have at least one of that subfeature.\n",
    "\n",
    "A finished garage is the most common subfeature, while a finished screened porch is associated with the most valuable homes."
   ]
  },
  {
   "attachments": {},
   "cell_type": "markdown",
   "id": "mobile-recycling",
   "metadata": {},
   "source": [
    "<div>\n",
    "<img src=\"./Images/HomeSubfeatures.png\"  />\n",
    "</div>"
   ]
  },
  {
   "cell_type": "markdown",
   "id": "textile-voice",
   "metadata": {},
   "source": [
    "### Home Type\n",
    "\n",
    "The vast majority of Jacksonville homes, almost 207,000, are single-story. This makes sense as Jacksonville is the largest city by land mass in the continental U.S., meaning there is ample land to build sprawling single-story homes and little incentive to build vertically. There are fewer than 350 three-story homes in Jacksonville.\n",
    "\n",
    "However, single-story homes have the smallest median home value. This may be a result of the type's commonality - every other kind of home type is comparatively rare. Having more than one story may also be an indicator of a home's proximity to water, downtown and other valuable areas, since they have higher concentrations of buildings and would be more likely to justify vertical construction. It also may be an indication of a younger home, since more than one story can presumably be associated with later stages of an area's development, newer construction methods and/or more recent aesthetic preferences."
   ]
  },
  {
   "attachments": {},
   "cell_type": "markdown",
   "id": "blond-least",
   "metadata": {},
   "source": [
    "<div>\n",
    "<img src=\"./Images/HomeTypes.png\"  />\n",
    "</div>"
   ]
  },
  {
   "cell_type": "markdown",
   "id": "specified-services",
   "metadata": {},
   "source": [
    "### Land Uses\n",
    "\n",
    "For the vast majority of homes in Jacksonville, the primary land use is 3-7 Units per Acre. Seven of the 10 most common land uses are some variation of this land use. \n",
    "\n",
    "Ranking land use by median adjusted home value, as done in the graph on the right, reaffirms what has already been discussed: homes near water and golf courses are more valuable than those that are not. It also suggests that homes with smaller maximum units per acre are more valuable than those with a high maximum units per acre. This makes intuitive sense, given that homes in 3-7 Units per Acre areas can have larger lot sizes than homes in 8-9 Units Per Acre areas."
   ]
  },
  {
   "attachments": {},
   "cell_type": "markdown",
   "id": "marine-secret",
   "metadata": {},
   "source": [
    "<div>\n",
    "<img src=\"./Images/LandUses.png\"  />\n",
    "</div>"
   ]
  },
  {
   "cell_type": "markdown",
   "id": "transsexual-croatia",
   "metadata": {},
   "source": [
    "### Home Owners\n",
    "\n",
    "When considering home values, it is worth considering who is buying them. For most homes in Jacksonville, the buyer lives in the home. I arrived at this conclusion by comparing the similarity of each home's mailing address (or owner's address) and site address. \n",
    "\n",
    "About 21,000 are owned by investors or land trusts. I arrived at this conclusion by calculating how many mailing addresses are listed for more than three homes.\n",
    "\n",
    "Fewer than 500 homes are owned by buyers from other countries, which is not particularly surprising given that foreign buyers presumably are more attracted to larger Florida markets like Miami and Tampa.\n",
    "\n",
    "I have categorized the remainder as secondary residences."
   ]
  },
  {
   "attachments": {},
   "cell_type": "markdown",
   "id": "physical-feeling",
   "metadata": {},
   "source": [
    "<div>\n",
    "<img src=\"./Images/HomeOwnerType.png\"  />\n",
    "</div>"
   ]
  },
  {
   "cell_type": "markdown",
   "id": "statewide-blackjack",
   "metadata": {},
   "source": [
    "Of the homes owned by investors and land trusts, investment is primarily coming from California, Texas, Arizona and Georgia."
   ]
  },
  {
   "attachments": {},
   "cell_type": "markdown",
   "id": "executive-stuff",
   "metadata": {},
   "source": [
    "<div>\n",
    "<img src=\"./Images/HomeOwners.png\"  />\n",
    "</div>"
   ]
  },
  {
   "cell_type": "markdown",
   "id": "unable-disaster",
   "metadata": {},
   "source": [
    "Investors include real estate investment trusts, asset managers, rental property managers and other types of funds.\n",
    "\n",
    "Heritage Florida Property Holdings and JWB Real Estate Capital are the largest home owners native to Jacksonville. A third investor, Watson Realty Corp., is in the top 15."
   ]
  },
  {
   "attachments": {},
   "cell_type": "markdown",
   "id": "entire-sailing",
   "metadata": {},
   "source": [
    "<div>\n",
    "<img src=\"./Images/TopOwners.png\"  />\n",
    "</div>"
   ]
  },
  {
   "cell_type": "markdown",
   "id": "falling-values",
   "metadata": {},
   "source": [
    "### Home Sales\n",
    "\n",
    "As in most U.S. cities, Jacksonville saw a major surge in home sales up to 2005 followed by a very steep decline. Jacksonville hit a peak of more than 14,500 sales in 2005, totaling almost $3 billion in revenue. Four of Jacksonville's 10 largest home sales occurred between 2005 and 2007.\n",
    "\n",
    "The city finally returned to these record levels last year. The data used for this analysis consists only of qualified sales, meaning sales verified as arms-length transactions with no special circumstances. Because of this, the 2020 data is current only through October.\n",
    "\n",
    "In the first 10 months of 2020, Jacksonville had its highest number of sales in any year since 2005 and its highest sale revenue of all time. "
   ]
  },
  {
   "attachments": {},
   "cell_type": "markdown",
   "id": "dated-henry",
   "metadata": {},
   "source": [
    "<div> \n",
    "     <img src=\"./Images/HomeSalesHistoric.png\" />\n",
    "</div>"
   ]
  },
  {
   "cell_type": "markdown",
   "id": "excessive-board",
   "metadata": {},
   "source": [
    "Home sale prices are consistent with the previous review of home values. They tend to be highest near waterways and in historic districts, and they tend to be lowest in the region between downtown and the airport.\n",
    "\n",
    "The top 10 neighborhoods by home count are mostly in the city's peripheral districts, likely where there is the newest inventory."
   ]
  },
  {
   "attachments": {},
   "cell_type": "markdown",
   "id": "subtle-seminar",
   "metadata": {},
   "source": [
    "<div>\n",
    "    <img src=\"./Images/ByNeighborhood.png\" />\n",
    "</div>"
   ]
  },
  {
   "cell_type": "markdown",
   "id": "excellent-timer",
   "metadata": {},
   "source": [
    "Despite initial fears of a slowdown after the onset of the Covid-19 pandemic, home sales continued to surge through 2020. Sales dipped in March and April when the city issued lockdown mandates, but since June both sales and sale revenue have been well above 2019 levels."
   ]
  },
  {
   "attachments": {},
   "cell_type": "markdown",
   "id": "systematic-building",
   "metadata": {},
   "source": [
    "<div>\n",
    "    <img src=\"./Images/RecentSales.png\" />\n",
    "</div>"
   ]
  }
 ],
 "metadata": {
  "kernelspec": {
   "display_name": "Python 3",
   "language": "python",
   "name": "python3"
  },
  "language_info": {
   "codemirror_mode": {
    "name": "ipython",
    "version": 3
   },
   "file_extension": ".py",
   "mimetype": "text/x-python",
   "name": "python",
   "nbconvert_exporter": "python",
   "pygments_lexer": "ipython3",
   "version": "3.8.10"
  }
 },
 "nbformat": 4,
 "nbformat_minor": 5
}
