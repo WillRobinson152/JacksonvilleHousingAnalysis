{
 "cells": [
  {
   "cell_type": "markdown",
   "metadata": {},
   "source": [
    "## Jacksonville, Florida - Property Database"
   ]
  },
  {
   "cell_type": "markdown",
   "metadata": {},
   "source": [
    "The data used in this notebook comes from the January 2021 uncertified tax roll for Duval County. The file is accessible on the City of Jacksonville website at: https://www.coj.net/departments/property-appraiser/information-offerings"
   ]
  },
  {
   "cell_type": "code",
   "execution_count": 1,
   "metadata": {},
   "outputs": [],
   "source": [
    "import pandas as pd\n",
    "import numpy as np\n",
    "import sqlite3"
   ]
  },
  {
   "cell_type": "code",
   "execution_count": 2,
   "metadata": {},
   "outputs": [
    {
     "name": "stderr",
     "output_type": "stream",
     "text": [
      "C:\\Users\\robin\\anaconda3\\lib\\site-packages\\IPython\\core\\interactiveshell.py:3146: DtypeWarning: Columns (2,15,16) have mixed types.Specify dtype option on import or set low_memory=False.\n",
      "  has_raised = await self.run_ast_nodes(code_ast.body, cell_name,\n"
     ]
    },
    {
     "data": {
      "text/html": [
       "<div>\n",
       "<style scoped>\n",
       "    .dataframe tbody tr th:only-of-type {\n",
       "        vertical-align: middle;\n",
       "    }\n",
       "\n",
       "    .dataframe tbody tr th {\n",
       "        vertical-align: top;\n",
       "    }\n",
       "\n",
       "    .dataframe thead th {\n",
       "        text-align: right;\n",
       "    }\n",
       "</style>\n",
       "<table border=\"1\" class=\"dataframe\">\n",
       "  <thead>\n",
       "    <tr style=\"text-align: right;\">\n",
       "      <th></th>\n",
       "      <th>0</th>\n",
       "      <th>1</th>\n",
       "      <th>2</th>\n",
       "      <th>3</th>\n",
       "      <th>4</th>\n",
       "      <th>5</th>\n",
       "      <th>6</th>\n",
       "      <th>7</th>\n",
       "      <th>8</th>\n",
       "      <th>9</th>\n",
       "      <th>...</th>\n",
       "      <th>21</th>\n",
       "      <th>22</th>\n",
       "      <th>23</th>\n",
       "      <th>24</th>\n",
       "      <th>25</th>\n",
       "      <th>26</th>\n",
       "      <th>27</th>\n",
       "      <th>28</th>\n",
       "      <th>29</th>\n",
       "      <th>30</th>\n",
       "    </tr>\n",
       "  </thead>\n",
       "  <tbody>\n",
       "    <tr>\n",
       "      <th>0</th>\n",
       "      <td>1</td>\n",
       "      <td>0000010005R</td>\n",
       "      <td>01</td>\n",
       "      <td>2S</td>\n",
       "      <td>23E</td>\n",
       "      <td>3401</td>\n",
       "      <td>N</td>\n",
       "      <td>C/O LARSON &amp; MCGOWIN LLC</td>\n",
       "      <td>PO BOX 161139</td>\n",
       "      <td>MOBILE</td>\n",
       "      <td>...</td>\n",
       "      <td>32420.0</td>\n",
       "      <td>32420.0</td>\n",
       "      <td>0.0</td>\n",
       "      <td>521850.0</td>\n",
       "      <td>32420.0</td>\n",
       "      <td>32420.0</td>\n",
       "      <td>32420.0</td>\n",
       "      <td>GS</td>\n",
       "      <td>3198369.0</td>\n",
       "      <td>73.42</td>\n",
       "    </tr>\n",
       "    <tr>\n",
       "      <th>1</th>\n",
       "      <td>2</td>\n",
       "      <td>0000010005R</td>\n",
       "      <td>1</td>\n",
       "      <td>01-2S-23E  73.42</td>\n",
       "      <td>NaN</td>\n",
       "      <td>NaN</td>\n",
       "      <td>NaN</td>\n",
       "      <td>NaN</td>\n",
       "      <td>NaN</td>\n",
       "      <td>NaN</td>\n",
       "      <td>...</td>\n",
       "      <td>NaN</td>\n",
       "      <td>NaN</td>\n",
       "      <td>NaN</td>\n",
       "      <td>NaN</td>\n",
       "      <td>NaN</td>\n",
       "      <td>NaN</td>\n",
       "      <td>NaN</td>\n",
       "      <td>NaN</td>\n",
       "      <td>NaN</td>\n",
       "      <td>NaN</td>\n",
       "    </tr>\n",
       "    <tr>\n",
       "      <th>2</th>\n",
       "      <td>2</td>\n",
       "      <td>0000010005R</td>\n",
       "      <td>2</td>\n",
       "      <td>N 3/4 LYING W OF RR</td>\n",
       "      <td>NaN</td>\n",
       "      <td>NaN</td>\n",
       "      <td>NaN</td>\n",
       "      <td>NaN</td>\n",
       "      <td>NaN</td>\n",
       "      <td>NaN</td>\n",
       "      <td>...</td>\n",
       "      <td>NaN</td>\n",
       "      <td>NaN</td>\n",
       "      <td>NaN</td>\n",
       "      <td>NaN</td>\n",
       "      <td>NaN</td>\n",
       "      <td>NaN</td>\n",
       "      <td>NaN</td>\n",
       "      <td>NaN</td>\n",
       "      <td>NaN</td>\n",
       "      <td>NaN</td>\n",
       "    </tr>\n",
       "    <tr>\n",
       "      <th>3</th>\n",
       "      <td>3</td>\n",
       "      <td>0000010005R</td>\n",
       "      <td>1</td>\n",
       "      <td>RAYONIER FORREST RESOURCES L P</td>\n",
       "      <td>NaN</td>\n",
       "      <td>NaN</td>\n",
       "      <td>NaN</td>\n",
       "      <td>NaN</td>\n",
       "      <td>NaN</td>\n",
       "      <td>NaN</td>\n",
       "      <td>...</td>\n",
       "      <td>NaN</td>\n",
       "      <td>NaN</td>\n",
       "      <td>NaN</td>\n",
       "      <td>NaN</td>\n",
       "      <td>NaN</td>\n",
       "      <td>NaN</td>\n",
       "      <td>NaN</td>\n",
       "      <td>NaN</td>\n",
       "      <td>NaN</td>\n",
       "      <td>NaN</td>\n",
       "    </tr>\n",
       "    <tr>\n",
       "      <th>4</th>\n",
       "      <td>4</td>\n",
       "      <td>0000010005R</td>\n",
       "      <td>0</td>\n",
       "      <td>N</td>\n",
       "      <td>US 301</td>\n",
       "      <td>HWY</td>\n",
       "      <td>NaN</td>\n",
       "      <td>JACKSONVILLE</td>\n",
       "      <td>32234</td>\n",
       "      <td>0</td>\n",
       "      <td>...</td>\n",
       "      <td>NaN</td>\n",
       "      <td>NaN</td>\n",
       "      <td>NaN</td>\n",
       "      <td>NaN</td>\n",
       "      <td>NaN</td>\n",
       "      <td>NaN</td>\n",
       "      <td>NaN</td>\n",
       "      <td>NaN</td>\n",
       "      <td>NaN</td>\n",
       "      <td>NaN</td>\n",
       "    </tr>\n",
       "  </tbody>\n",
       "</table>\n",
       "<p>5 rows × 31 columns</p>\n",
       "</div>"
      ],
      "text/plain": [
       "   0            1   2                               3       4     5    6   \\\n",
       "0   1  0000010005R  01                              2S     23E  3401    N   \n",
       "1   2  0000010005R   1                01-2S-23E  73.42     NaN   NaN  NaN   \n",
       "2   2  0000010005R   2             N 3/4 LYING W OF RR     NaN   NaN  NaN   \n",
       "3   3  0000010005R   1  RAYONIER FORREST RESOURCES L P     NaN   NaN  NaN   \n",
       "4   4  0000010005R   0                               N  US 301   HWY  NaN   \n",
       "\n",
       "                         7              8       9   ...       21       22  \\\n",
       "0  C/O LARSON & MCGOWIN LLC  PO BOX 161139  MOBILE  ...  32420.0  32420.0   \n",
       "1                       NaN            NaN     NaN  ...      NaN      NaN   \n",
       "2                       NaN            NaN     NaN  ...      NaN      NaN   \n",
       "3                       NaN            NaN     NaN  ...      NaN      NaN   \n",
       "4              JACKSONVILLE          32234       0  ...      NaN      NaN   \n",
       "\n",
       "    23        24       25       26       27   28         29     30  \n",
       "0  0.0  521850.0  32420.0  32420.0  32420.0   GS  3198369.0  73.42  \n",
       "1  NaN       NaN      NaN      NaN      NaN  NaN        NaN    NaN  \n",
       "2  NaN       NaN      NaN      NaN      NaN  NaN        NaN    NaN  \n",
       "3  NaN       NaN      NaN      NaN      NaN  NaN        NaN    NaN  \n",
       "4  NaN       NaN      NaN      NaN      NaN  NaN        NaN    NaN  \n",
       "\n",
       "[5 rows x 31 columns]"
      ]
     },
     "execution_count": 2,
     "metadata": {},
     "output_type": "execute_result"
    }
   ],
   "source": [
    "# Convert text file to Pandas dataframe.\n",
    "\n",
    "df = pd.read_csv('D:\\\\raw_data\\\\UncertifiedRE_01_04_21.txt', \n",
    "                 sep=\"|\", \n",
    "                 names=list(range(31)), \n",
    "                 encoding=\"ANSI\")\n",
    "df.head()"
   ]
  },
  {
   "cell_type": "code",
   "execution_count": 3,
   "metadata": {},
   "outputs": [
    {
     "name": "stdout",
     "output_type": "stream",
     "text": [
      "(10596669, 31)\n"
     ]
    }
   ],
   "source": [
    "print(df.shape)"
   ]
  },
  {
   "cell_type": "markdown",
   "metadata": {},
   "source": [
    "This dataframe contains data from 17 tables and needs to be broken down into its component tables with the schemas provided by the city."
   ]
  },
  {
   "cell_type": "code",
   "execution_count": 4,
   "metadata": {},
   "outputs": [],
   "source": [
    "# Column names for each table.\n",
    "\n",
    "parcel_vals = ['RE', 'section', 'township', 'range', 'tile', 'confidential', 'mailing_address_1',\n",
    "              'mailing_address_2', 'city', 'state', 'zipcode', 'property_use', 'subdivision_num', \n",
    "              'subdivision_name', 'plat_book', 'plat_page', 'neighborhood', 'perc_capped', 'value_method',\n",
    "              'cap_base_yr', 'market_value', 'assessed_value', 'building_value', 'just_value',\n",
    "              'school_taxable', 'county_taxable', 'sjrwmd_taxable', 'tax_district', 'lot_sf', 'acres']\n",
    "legal_vals = ['RE', 'line', 'legal_descr']\n",
    "owner_vals = ['RE', 'line', 'owner']\n",
    "site_vals = ['RE', 'street_num', 'direction', 'street_name', 'street_type', 'unit', 'city', 'zipcode',\n",
    "            'building_num']\n",
    "building_vals = ['RE', 'building', 'type_code', 'type_descr', 'style', 'class', 'quality', \n",
    "                 'actual_yr_built', 'effec_yr_built', 'perc_complete', 'value', 'heated_sf']\n",
    "structure_vals = ['RE', 'building', 'element_category', 'element_type', 'element_type_descr',\n",
    "                 'perc_element']\n",
    "utility_vals = ['RE', 'building', 'structure_code', 'structure_descr', 'units']\n",
    "subarea_vals = ['RE',  'building', 'substructure_code', 'substructure_descr', 'actual_area', 'effec_area',\n",
    "                'heated_sf']\n",
    "condo_vals = ['RE', 'building', 'condo_num', 'condo_type', 'value', 'view_code', 'perc_adjustment', \n",
    "             'bedrooms', 'bathrooms', 'area', 'floor_adjustment']\n",
    "amenity_vals = ['RE', 'building', 'amenity_code', 'unit', 'amenity_type', 'amenity_value']\n",
    "feature_vals = ['RE', 'building', 'ft_category', 'ft_descr', 'grade', 'length', 'width', 'units', 'ppu',\n",
    "               'actual_yr_built', 'effec_yr_built', 'deprec_value']\n",
    "common_vals = ['RE', 'use_code', 'use_descr', 'zoning', 'unit_type', 'front_feet', 'depth', 'units',\n",
    "               'ppu', 'land_val']\n",
    "agland_vals = ['RE', 'use_code', 'use_descr', 'zoning', 'unit_type', 'units', 'ppu']\n",
    "marketag_vals = ['RE', 'use_code', 'use_descr', 'zoning', 'unit_type', 'units', 'ppu']\n",
    "exemption_vals = ['RE', 'line', 'exempt_holder', 'exempt_code', 'exempt_descr', 'perc_exempt', \n",
    "                  'exempt_amount', 'override']\n",
    "character_vals = ['RE', 'category', 'char_type', 'char_descr']\n",
    "sale_vals = ['RE', 'sale_id', 'seller', 'or_book', 'or_page', 'qualification', 'improved',\n",
    "            'instrument_type', 'instrument_descr', 'deed_type', 'deed_description', 'sale_date', \n",
    "            'record_date', 'price']\n"
   ]
  },
  {
   "cell_type": "code",
   "execution_count": 5,
   "metadata": {},
   "outputs": [],
   "source": [
    "def table_split(i, lst):\n",
    "    \"\"\"Breaks single dataframe into dataframes of each table with named columns.\n",
    "\n",
    "    Parameters\n",
    "    ----------\n",
    "    i : int\n",
    "        The number of the table id, provided by City of Jacksonville's schema\n",
    "    lst : list\n",
    "        List of column names\n",
    "\n",
    "    Returns\n",
    "    -------\n",
    "    DataFrame\n",
    "        Pandas dataframe of one of 17 tables included in original text file\n",
    "    \"\"\"\n",
    "    # Slice df by table number\n",
    "    df2 = df[df[0] == i].dropna(how='all',axis='columns')\n",
    "    # Drop table number column\n",
    "    df2 = df2.drop(columns=[0])\n",
    "    # Rename columns using list of column names\n",
    "    columns = dict(zip(list(range(1,len(lst)+1)),lst))\n",
    "    df2.rename(columns=columns, inplace=True)\n",
    "    # Return dataframe\n",
    "    return df2"
   ]
  },
  {
   "cell_type": "markdown",
   "metadata": {},
   "source": [
    "For the purpose of analyzing Jacksonville's housing market, I do not need all 17 tables. To save memory and computing power, I will omit the tables I do not need. To make each dataframe, I will run the table_split function I wrote above."
   ]
  },
  {
   "cell_type": "code",
   "execution_count": 6,
   "metadata": {},
   "outputs": [],
   "source": [
    "parcel = table_split(1, parcel_vals)\n",
    "legal = table_split(2, legal_vals)\n",
    "owner = table_split(3, owner_vals)\n",
    "site = table_split(4, site_vals)\n",
    "building = table_split(5, building_vals)\n",
    "structure = table_split(6, structure_vals)\n",
    "utility = table_split(7, utility_vals)\n",
    "subarea = table_split(8, subarea_vals)\n",
    "condo = table_split(9, condo_vals)\n",
    "amenity = table_split(10, amenity_vals)\n",
    "feature = table_split(11, feature_vals)\n",
    "common = table_split(12, common_vals)\n",
    "agland = table_split(13, agland_vals)\n",
    "marketag = table_split(14, marketag_vals)\n",
    "exemption = table_split(15, exemption_vals)\n",
    "character = table_split(16, character_vals)\n",
    "#sale = table_split(17, sale_vals)"
   ]
  },
  {
   "cell_type": "markdown",
   "metadata": {},
   "source": [
    "I also need to import a table of the qualification codes used by appraisers in describing transactions (qualified arms-length, sales of multiple parcels, etc.)."
   ]
  },
  {
   "cell_type": "code",
   "execution_count": 7,
   "metadata": {},
   "outputs": [],
   "source": [
    "qual_codes = pd.read_csv('D:\\\\raw_data\\\\Qualification.csv')"
   ]
  },
  {
   "cell_type": "markdown",
   "metadata": {},
   "source": [
    "Property sales are stored in a separate city txt file with fixed column widths."
   ]
  },
  {
   "cell_type": "code",
   "execution_count": 8,
   "metadata": {},
   "outputs": [],
   "source": [
    "widths = [5, 12, 5, 50, 8, 8, 2, 1, 2, 1, 25, 25, 11]\n",
    "df = pd.read_fwf(\"D:\\\\raw_data\\\\Sales_01_04_2021.txt\", widths=widths)\n",
    "df = df[df['00001']=='00003']\n",
    "df.drop(columns=['00001'],inplace=True)\n",
    "df.rename(columns=dict(zip(df.columns,['RE', 'sale_id', 'seller', 'or_bk', 'or_pg','q_id',\n",
    "                  'improved', 'instrument', 'sales_source', 'sale_date', 'record_date',\n",
    "                  'price'])),inplace=True)"
   ]
  },
  {
   "cell_type": "code",
   "execution_count": 9,
   "metadata": {},
   "outputs": [
    {
     "name": "stderr",
     "output_type": "stream",
     "text": [
      "<ipython-input-9-5f89c6c2f4db>:3: SettingWithCopyWarning: \n",
      "A value is trying to be set on a copy of a slice from a DataFrame\n",
      "\n",
      "See the caveats in the documentation: https://pandas.pydata.org/pandas-docs/stable/user_guide/indexing.html#returning-a-view-versus-a-copy\n",
      "  try: df['sale_date'][i] = df['sale_date'][i][:11].strip()\n"
     ]
    }
   ],
   "source": [
    "df['date_lngth'] = [len(str(x)) for x in df['sale_date']]\n",
    "for i in df.loc[df['date_lngth']!=10,'sale_date'].index:\n",
    "    try: df['sale_date'][i] = df['sale_date'][i][:11].strip()\n",
    "    except: continue\n",
    "df['sale_date'] = pd.to_datetime(df['sale_date'])"
   ]
  },
  {
   "cell_type": "code",
   "execution_count": 10,
   "metadata": {},
   "outputs": [
    {
     "name": "stderr",
     "output_type": "stream",
     "text": [
      "<ipython-input-10-1137eaf5afe7>:3: SettingWithCopyWarning: \n",
      "A value is trying to be set on a copy of a slice from a DataFrame\n",
      "\n",
      "See the caveats in the documentation: https://pandas.pydata.org/pandas-docs/stable/user_guide/indexing.html#returning-a-view-versus-a-copy\n",
      "  try: df['record_date'][i] = df['record_date'][i][:11].strip()\n"
     ]
    }
   ],
   "source": [
    "df['date_lngth'] = [len(str(x)) for x in df['record_date']]\n",
    "for i in df.loc[df['date_lngth']!=10,'record_date'].index:\n",
    "    try: df['record_date'][i] = df['record_date'][i][:11].strip()\n",
    "    except: continue\n",
    "df['record_date'] = pd.to_datetime(df['record_date'])"
   ]
  },
  {
   "cell_type": "code",
   "execution_count": 11,
   "metadata": {},
   "outputs": [],
   "source": [
    "df.drop(columns=['date_lngth'],inplace=True)\n",
    "df['q_id'] = df['q_id'].replace('1I',None).fillna('0').astype('int64')"
   ]
  },
  {
   "cell_type": "markdown",
   "metadata": {},
   "source": [
    "Lastly, I will create a SQLite database and populate it with the dataframes created in this notebook."
   ]
  },
  {
   "cell_type": "code",
   "execution_count": 12,
   "metadata": {},
   "outputs": [],
   "source": [
    "with sqlite3.connect('D:\\\\Data\\\\DuvalProperties.sqlite') as conn:\n",
    "    cur = conn.cursor()"
   ]
  },
  {
   "cell_type": "code",
   "execution_count": 13,
   "metadata": {},
   "outputs": [
    {
     "data": {
      "text/plain": [
       "<sqlite3.Cursor at 0x2c6e6687ce0>"
      ]
     },
     "execution_count": 13,
     "metadata": {},
     "output_type": "execute_result"
    }
   ],
   "source": [
    "    # I only need to run this block the first time I create my SQLite file\n",
    "    \n",
    "    cur.executescript('''\n",
    "    DROP TABLE IF EXISTS Parcel;\n",
    "    DROP TABLE IF EXISTS Legal;\n",
    "    DROP TABLE IF EXISTS Owner;\n",
    "    DROP TABLE IF EXISTS Site;\n",
    "    DROP TABLE IF EXISTS Building;\n",
    "    DROP TABLE IF EXISTS Structure;\n",
    "    DROP TABLE IF EXISTS Utility;\n",
    "    DROP TABLE IF EXISTS Subarea;\n",
    "    DROP TABLE IF EXISTS Condo;\n",
    "    DROP TABLE IF EXISTS Amenity;\n",
    "    DROP TABLE IF EXISTS Feature;\n",
    "    DROP TABLE IF EXISTS Common;\n",
    "    DROP TABLE IF EXISTS Agland;\n",
    "    DROP TABLE IF EXISTS Marketag;\n",
    "    DROP TABLE IF EXISTS Exemption;\n",
    "    DROP TABLE IF EXISTS Character;\n",
    "    DROP TABLE IF EXISTS Sale;\n",
    "    DROP TABLE IF EXISTS Qualification;\n",
    "\n",
    "\n",
    "    CREATE TABLE Parcel (\n",
    "        RE TEXT, section TEXT, township TEXT, range TEXT, tile INTEGER, confidential TEXT, \n",
    "        mailing_address_1 TEXT, mailing_address_2 TEXT, city TEXT, state TEXT, zipcode TEXT,\n",
    "        property_use INTEGER, subdivision_num FLOAT, subdivision_name TEXT,\n",
    "        plat_book TEXT, plat_page TEXT, neighborhood TEXT, perc_capped FLOAT, value_method INTEGER, \n",
    "        cap_base_year INTEGER, market_value INTEGER, assessed_value INTEGER, building_value INTEGER, \n",
    "        just_value INTEGER, school_taxable INTEGER, county_taxable INTEGER, sjrwmd_taxable INTEGER, \n",
    "        tax_district TEXT, lot_sf INTEGER, acres FLOAT\n",
    "        );\n",
    "\n",
    "    CREATE TABLE Legal (\n",
    "        RE TEXT, line INTEGER, legal_descr TEXT\n",
    "        );    \n",
    "\n",
    "    CREATE TABLE Owner (\n",
    "        RE TEXT, line INTEGER, owner TEXT\n",
    "        );  \n",
    "\n",
    "    CREATE TABLE Site (\n",
    "        RE TEXT, street_num TEXT, direction TEXT, street_name TEXT, street_type TEXT, unit TEXT, city TEXT,\n",
    "        zipcode TEXT, building_num INTEGER\n",
    "        );    \n",
    "\n",
    "    CREATE TABLE Building (\n",
    "        RE TEXT, building INTEGER, type_code TEXT, type_descr TEXT, style INTEGER, class INTEGER,\n",
    "        quality INTEGER, actual_yr_built INTEGER, effec_yr_built INTEGER, perc_complete FLOAT,\n",
    "        value INTEGER, heated_sf INTEGER\n",
    "        );\n",
    "\n",
    "    CREATE TABLE Structure (\n",
    "        RE TEXT, building INTEGER, element_category TEXT, element_type INTEGER, element_type_descr TEXT, \n",
    "        perc_element FLOAT\n",
    "    );\n",
    "\n",
    "    CREATE TABLE Utility (\n",
    "        RE TEXT, building INTEGER, structure_code TEXT, structure_descr TEXT, units FLOAT\n",
    "        );\n",
    "\n",
    "    CREATE TABLE Subarea (\n",
    "        RE TEXT, substructure_code TEXT, substructure_descr TEXT, actual_area INTEGER, effec_area INTEGER,\n",
    "        heated_sf INTEGER\n",
    "        );\n",
    "\n",
    "    CREATE TABLE Condo (\n",
    "        RE TEXT, building INTEGER, condo_num INTEGER, condo_type TEXT, value INTEGER, view_code TEXT,\n",
    "        perc_adjustment FLOAT, bedrooms FLOAT, bathrooms FLOAT, area INTEGER, floor_adjustment FLOAT\n",
    "        );\n",
    "\n",
    "    CREATE TABLE Amenity (\n",
    "        RE TEXT, building INTEGER, amenity_code INTEGER, unit FLOAT, amenity_type TEXT, amenity_value INTEGER\n",
    "        );\n",
    "\n",
    "    CREATE TABLE Feature (\n",
    "        RE TEXT, building INTEGER, ft_category TEXT, ft_descr TEXT, grade FLOAT, length INTEGER,\n",
    "        width INTEGER, units FLOAT, ppu FLOAT, actual_yr_built INTEGER, effec_yr_built INTEGER,\n",
    "        deprec_value INTEGER\n",
    "        );    \n",
    "\n",
    "    CREATE TABLE Common (\n",
    "        RE TEXT, use_code TEXT, use_descr TEXT, zoning TEXT, unit_type TEXT, front_feet INTEGER,\n",
    "        depth INTEGER, units FLOAT, ppu FLOAT, land_val INTEGER\n",
    "        );\n",
    "\n",
    "    CREATE TABLE Agland (\n",
    "        RE TEXT, use_code TEXT, use_descr TEXT, zoning TEXT, unit_type TEXT, units FLOAT, ppu FLOAT\n",
    "        );  \n",
    "\n",
    "    CREATE TABLE Marketag (\n",
    "        RE TEXT, use_code TEXT, use_descr TEXT, zoning TEXT, unit_type TEXT, units FLOAT, ppu FLOAT\n",
    "        );\n",
    "\n",
    "    CREATE TABLE Exemption (\n",
    "        RE TEXT, line INTEGER, exempt_holder TEXT, exempt_code TEXT, exempt_descr TEXT, perc_exempt FLOAT,  \n",
    "        exempt_amount INTEGER, override INTEGER\n",
    "        );\n",
    "\n",
    "    CREATE TABLE Character (\n",
    "        RE TEXT, category TEXT, char_type TEXT, char_descr TEXT\n",
    "        );\n",
    "        \n",
    "    CREATE TABLE Sale (\n",
    "        RE TEXT, sale_id INTEGER, seller TEXT, or_bk TEXT, or_pg TEXT, q_id INTEGER, improved TEXT,\n",
    "        instrument TEXT, sales_source TEXT, sale_date TEXT, record_date TEXT, price INTEGER\n",
    "        );   \n",
    "        \n",
    "    CREATE TABLE Qualification (\n",
    "        q_id INTEGER, status TEXT, reason TEXT\n",
    "        );    \n",
    "    ''')"
   ]
  },
  {
   "cell_type": "code",
   "execution_count": 14,
   "metadata": {},
   "outputs": [],
   "source": [
    "    parcel.to_sql('Parcel', conn, if_exists='replace', index=False)\n",
    "    legal.to_sql('Legal', conn, if_exists='replace', index=False)\n",
    "    owner.to_sql('Owner', conn, if_exists='replace', index=False)\n",
    "    site.to_sql('Site', conn, if_exists='replace', index=False)\n",
    "    building.to_sql('Building', conn, if_exists='replace', index=False)\n",
    "    structure.to_sql('Structure', conn, if_exists='replace', index=False)\n",
    "    utility.to_sql('Utility', conn, if_exists='replace', index=False)\n",
    "    subarea.to_sql('Subarea', conn, if_exists='replace', index=False)\n",
    "    condo.to_sql('Condo', conn, if_exists='replace', index=False)\n",
    "    amenity.to_sql('Amenity', conn, if_exists='replace', index=False)\n",
    "    feature.to_sql('Feature', conn, if_exists='replace', index=False)\n",
    "    common.to_sql('Common', conn, if_exists='replace', index=False)\n",
    "    agland.to_sql('Agland', conn, if_exists='replace', index=False)\n",
    "    marketag.to_sql('Marketag', conn, if_exists='replace', index=False)\n",
    "    exemption.to_sql('Exemption', conn, if_exists='replace', index=False)\n",
    "    character.to_sql('Character', conn, if_exists='replace', index=False)\n",
    "    df.to_sql('Sale', conn, if_exists='replace', index=False)\n",
    "    qual_codes.to_sql('Qualification', conn, if_exists='replace', index=False)"
   ]
  },
  {
   "cell_type": "code",
   "execution_count": null,
   "metadata": {},
   "outputs": [],
   "source": []
  }
 ],
 "metadata": {
  "kernelspec": {
   "display_name": "Python 3",
   "language": "python",
   "name": "python3"
  },
  "language_info": {
   "codemirror_mode": {
    "name": "ipython",
    "version": 3
   },
   "file_extension": ".py",
   "mimetype": "text/x-python",
   "name": "python",
   "nbconvert_exporter": "python",
   "pygments_lexer": "ipython3",
   "version": "3.8.8"
  }
 },
 "nbformat": 4,
 "nbformat_minor": 4
}
